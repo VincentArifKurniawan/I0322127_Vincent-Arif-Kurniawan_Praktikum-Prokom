{
 "cells": [
  {
   "cell_type": "code",
   "execution_count": 3,
   "metadata": {},
   "outputs": [
    {
     "data": {
      "text/plain": [
       "[[1, 0], [3, 2], [2, 1], [2, 7]]"
      ]
     },
     "execution_count": 3,
     "metadata": {},
     "output_type": "execute_result"
    }
   ],
   "source": [
    "#Buatlah sebuah fungsi untuk membuat matrix berdasarkan input dari user\n",
    "\n",
    "def create_matrix(baris,kolom):\n",
    "    matrix = []\n",
    "    for i in range(baris):\n",
    "        matrix.append([])\n",
    "        for j in range(kolom):\n",
    "            elemen = int(input(f'Masukkan elemen matriks[{i+1}][{j+1}] = '))\n",
    "            matrix[i].append(elemen)\n",
    "    return matrix\n",
    "\n",
    "\n",
    "baris = int(input('Masukkan Jumlah Baris:\\t'))\n",
    "kolom = int(input('Masukkan Jumlah Kolom:\\t'))\n",
    "\n",
    "create_matrix(baris,kolom)"
   ]
  },
  {
   "cell_type": "code",
   "execution_count": 10,
   "metadata": {},
   "outputs": [
    {
     "name": "stdout",
     "output_type": "stream",
     "text": [
      "Matriks awal adalah  [[4, 3, 2], [5, 1, 3], [2, 4, 3]]\n",
      "Hasil invers adalah: \n"
     ]
    },
    {
     "data": {
      "text/plain": [
       "[array([[ 0.33333333,  0.03703704, -0.25925926],\n",
       "        [ 0.33333333, -0.2962963 ,  0.07407407],\n",
       "        [-0.66666667,  0.37037037,  0.40740741]])]"
      ]
     },
     "execution_count": 10,
     "metadata": {},
     "output_type": "execute_result"
    }
   ],
   "source": [
    "#Buatlah sebuah fungsi untuk mencari invers matrix berdasarkan input matrix dari user\n",
    "\n",
    "def invers():\n",
    "    import numpy as np\n",
    "    det = []\n",
    "    baris = int(input('Masukkan Jumlah Baris dan Kolom:\\t'))\n",
    "    kolom = baris\n",
    "    A = create_matrix(baris, kolom)\n",
    "    det.append(np.linalg.inv(A))\n",
    "    print('Matriks awal adalah ', A)\n",
    "    print('Hasil invers adalah: ')\n",
    "    return det\n",
    "\n",
    "invers()"
   ]
  },
  {
   "cell_type": "code",
   "execution_count": 13,
   "metadata": {},
   "outputs": [
    {
     "name": "stdout",
     "output_type": "stream",
     "text": [
      "Matriks input adalah :  [[4, 6, 3], [2, 7, 4]]\n",
      "Hasil bagi matriks input dengan 4 adalah:\n"
     ]
    },
    {
     "data": {
      "text/plain": [
       "[[1.0, 1.5, 0.75], [0.5, 1.75, 1.0]]"
      ]
     },
     "execution_count": 13,
     "metadata": {},
     "output_type": "execute_result"
    }
   ],
   "source": [
    "#Buatlah Fungsi untuk melakukan pembagian matrix antar matrix berdasarkan input user menggunakan nested loop\n",
    "\n",
    "def bagi_matrix(matrix1, skalar):\n",
    "    hasil = []\n",
    "    baris = int(input('Masukkan Jumlah Baris:\\t'))\n",
    "    kolom = int(input('Masukkan Jumlah Kolom:\\t'))\n",
    "    matrix1 = create_matrix(baris,kolom)\n",
    "    print('Matriks input adalah : ', matrix1)\n",
    "    print(f'Hasil bagi matriks input dengan {skalar} adalah:')\n",
    "    for i in matrix1:\n",
    "        isi = []\n",
    "        for j in i:\n",
    "            k = j/skalar\n",
    "            isi.append(k)\n",
    "        hasil.append(isi)\n",
    "    return hasil\n",
    "\n",
    "matrix1 = []\n",
    "skalar = int(input('Matrix dibagi berapa?\\t'))\n",
    "\n",
    "\n",
    "bagi_matrix(matrix1, skalar)"
   ]
  }
 ],
 "metadata": {
  "kernelspec": {
   "display_name": "Python 3",
   "language": "python",
   "name": "python3"
  },
  "language_info": {
   "codemirror_mode": {
    "name": "ipython",
    "version": 3
   },
   "file_extension": ".py",
   "mimetype": "text/x-python",
   "name": "python",
   "nbconvert_exporter": "python",
   "pygments_lexer": "ipython3",
   "version": "3.10.7"
  },
  "orig_nbformat": 4
 },
 "nbformat": 4,
 "nbformat_minor": 2
}
