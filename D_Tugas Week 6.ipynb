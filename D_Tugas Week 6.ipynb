{
 "cells": [
  {
   "attachments": {},
   "cell_type": "markdown",
   "metadata": {},
   "source": [
    "1. Tulis program dengan fungsi untuk menentukan angka median dari tiga angka yang diberikan!\n",
    "     ###### Note: Angka ditentukan sendiri oleh praktikan"
   ]
  },
  {
   "cell_type": "code",
   "execution_count": 9,
   "metadata": {},
   "outputs": [
    {
     "name": "stdout",
     "output_type": "stream",
     "text": [
      "Dari angka 7, 9, dan 12:\n",
      "Median adalah  9\n"
     ]
    }
   ],
   "source": [
    "# Kerjakan Nomor 1 di bawah ini\n",
    "a = 7\n",
    "b = 9\n",
    "c = 12\n",
    "def median(a,b,c):\n",
    "    if a > b:\n",
    "        if a > c:\n",
    "            if b > c:\n",
    "                print('Median adalah ', b)\n",
    "            else: print('Median adalah ', c)\n",
    "        else: print('Median adalah ', a)\n",
    "    elif b > a:\n",
    "        if b > c:\n",
    "            if a > c:\n",
    "                print('Median adalah ', a)\n",
    "            else: print('Median adalah ', c)\n",
    "        else: print('Median adalah ', b)\n",
    "print(f'Dari angka {a}, {b}, dan {c}:')\n",
    "median(a,b,c)"
   ]
  },
  {
   "attachments": {},
   "cell_type": "markdown",
   "metadata": {},
   "source": [
    "2. Tulis fungsi Python yang mengambil list awal dan menampilkan list baru dengan angka unik (tidak ada angka yang sama) dari list yang pertama."
   ]
  },
  {
   "cell_type": "code",
   "execution_count": null,
   "metadata": {},
   "outputs": [],
   "source": [
    "list_awal = [40,40,40,40,40,41,41,42,44,45,45,45,45,46,47,48,50,50,50]"
   ]
  },
  {
   "cell_type": "code",
   "execution_count": 8,
   "metadata": {},
   "outputs": [
    {
     "name": "stdout",
     "output_type": "stream",
     "text": [
      "List awal adalah sebagai berikut =  [40, 40, 40, 40, 40, 41, 41, 42, 44, 45, 45, 45, 45, 46, 47, 48, 50, 50, 50]\n",
      "List baru tanpa angka yang sama adalah sebagai berikut =  [40, 41, 42, 44, 45, 46, 47, 48, 50]\n"
     ]
    }
   ],
   "source": [
    "# Kerjakan Nomor 2 di bawah ini\n",
    "list_awal = [40,40,40,40,40,41,41,42,44,45,45,45,45,46,47,48,50,50,50]\n",
    "list_baru = []\n",
    "def unik():\n",
    "    for i in list_awal:\n",
    "        if i not in list_baru:\n",
    "            list_baru.append(i)\n",
    "        else: continue\n",
    "    print('List baru tanpa angka yang sama adalah sebagai berikut = ', list_baru)\n",
    "print('List awal adalah sebagai berikut = ', list_awal)\n",
    "unik()"
   ]
  },
  {
   "attachments": {},
   "cell_type": "markdown",
   "metadata": {},
   "source": [
    "3. Terdapat 2 list yang berbeda, gabungkan 2 list berikut menggunakan fungsi built-in dan tampilkan hasilnya dengan cara menurun/memakai perulangan/bukan menggunakan list! "
   ]
  },
  {
   "cell_type": "code",
   "execution_count": 7,
   "metadata": {},
   "outputs": [
    {
     "name": "stdout",
     "output_type": "stream",
     "text": [
      "Gabungan list 1 dan 2 hasilnya sebagai berikut:\n",
      "buah apel\n",
      "kota solo\n",
      "selembar kertas\n",
      "sepasang angsa\n",
      "sebuah bintang\n"
     ]
    }
   ],
   "source": [
    "list1 = ['buah', 'kota', 'selembar', 'sepasang', 'sebuah']\n",
    "list2 = ['apel', 'solo', 'kertas', 'angsa', 'bintang']\n",
    "print('Gabungan list 1 dan 2 hasilnya sebagai berikut:')\n",
    "for x,y in zip(list1, list2):\n",
    "    print(x, y)\n"
   ]
  }
 ],
 "metadata": {
  "kernelspec": {
   "display_name": "Python 3",
   "language": "python",
   "name": "python3"
  },
  "language_info": {
   "codemirror_mode": {
    "name": "ipython",
    "version": 3
   },
   "file_extension": ".py",
   "mimetype": "text/x-python",
   "name": "python",
   "nbconvert_exporter": "python",
   "pygments_lexer": "ipython3",
   "version": "3.10.7"
  },
  "orig_nbformat": 4,
  "vscode": {
   "interpreter": {
    "hash": "5addf786bcd861d1ce5006f23111f8cbb206731e5b61b0a5632ba9e0252558a8"
   }
  }
 },
 "nbformat": 4,
 "nbformat_minor": 2
}
